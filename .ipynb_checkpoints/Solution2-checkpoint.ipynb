{
 "cells": [
  {
   "cell_type": "code",
   "execution_count": 33,
   "metadata": {},
   "outputs": [],
   "source": [
    "import random\n",
    "import csv\n",
    "import warnings\n",
    "import numpy as np\n",
    "warnings.filterwarnings('ignore')\n",
    "from matplotlib.patches import Rectangle\n",
    "from IPython.html.widgets import interact, IntSlider\n",
    "from matplotlib import pyplot as plt"
   ]
  },
  {
   "cell_type": "code",
   "execution_count": 34,
   "metadata": {},
   "outputs": [],
   "source": [
    "\n",
    "def g_0(n):\n",
    "    return (\"?\",)*n\n",
    "\n",
    "def s_0(n):\n",
    "    return ('0',)*n"
   ]
  },
  {
   "cell_type": "code",
   "execution_count": 35,
   "metadata": {},
   "outputs": [
    {
     "data": {
      "text/plain": [
       "[(1, 3), (2, 4), (3, 5)]"
      ]
     },
     "execution_count": 35,
     "metadata": {},
     "output_type": "execute_result"
    }
   ],
   "source": [
    "\n",
    "def more_general(h1, h2):\n",
    "    more_general_parts = []\n",
    "    for x, y in zip(h1, h2):\n",
    "        mg = x == \"?\" or (x != \"0\" and (x == y or y == \"0\"))\n",
    "        more_general_parts.append(mg)\n",
    "    return all(more_general_parts)\n",
    "\n",
    "l1 = [1, 2, 3]\n",
    "l2 = [3, 4, 5]\n",
    "\n",
    "list(zip(l1, l2))"
   ]
  },
  {
   "cell_type": "code",
   "execution_count": 36,
   "metadata": {},
   "outputs": [],
   "source": [
    "def fulfills(example, hypothesis):\n",
    "    ### the implementation is the same as for hypotheses:\n",
    "    return more_general(hypothesis, example)\n",
    "\n",
    "def min_generalizations(h, x):\n",
    "    h_new = list(h)\n",
    "    for i in range(len(h)):\n",
    "        if not fulfills(x[i:i+1], h[i:i+1]):\n",
    "            h_new[i] = '?' if h[i] != '0' else x[i]\n",
    "    return [tuple(h_new)]"
   ]
  },
  {
   "cell_type": "code",
   "execution_count": 37,
   "metadata": {},
   "outputs": [
    {
     "data": {
      "text/plain": [
       "[('rainy', 'windy', '?')]"
      ]
     },
     "execution_count": 37,
     "metadata": {},
     "output_type": "execute_result"
    }
   ],
   "source": [
    "min_generalizations(h=('0', '0'  , 'sunny'), \n",
    "                    x=('rainy', 'windy', 'cloudy'))"
   ]
  },
  {
   "cell_type": "code",
   "execution_count": 38,
   "metadata": {},
   "outputs": [],
   "source": [
    "def min_specializations(h, domains, x):\n",
    "    results = []\n",
    "    for i in range(len(h)):\n",
    "        if h[i] == \"?\":\n",
    "            for val in domains[i]:\n",
    "                if x[i] != val:\n",
    "                    h_new = h[:i] + (val,) + h[i+1:]\n",
    "                    results.append(h_new)\n",
    "        elif h[i] != \"0\":\n",
    "            h_new = h[:i] + ('0',) + h[i+1:]\n",
    "            results.append(h_new)\n",
    "    return results"
   ]
  },
  {
   "cell_type": "code",
   "execution_count": 39,
   "metadata": {},
   "outputs": [
    {
     "data": {
      "text/plain": [
       "[('a', 'x'), ('c', 'x'), ('?', '0')]"
      ]
     },
     "execution_count": 39,
     "metadata": {},
     "output_type": "execute_result"
    }
   ],
   "source": [
    "min_specializations(h=('?', 'x',), \n",
    "                    domains=[['a', 'b', 'c'], ['x', 'y']], \n",
    "                    x=('b', 'x'))"
   ]
  },
  {
   "cell_type": "code",
   "execution_count": 40,
   "metadata": {},
   "outputs": [],
   "source": [
    "with open('data_2.csv')  as csvFile:\n",
    "        examples = [tuple(line) for line in csv.reader(csvFile)]"
   ]
  },
  {
   "cell_type": "code",
   "execution_count": 41,
   "metadata": {},
   "outputs": [
    {
     "data": {
      "text/plain": [
       "[['Rainy', 'Sunny'],\n",
       " ['Cold', 'Warm'],\n",
       " ['High', 'Normal'],\n",
       " ['Strong'],\n",
       " ['Cool', 'Warm'],\n",
       " ['Change', 'Same'],\n",
       " ['N', 'Y']]"
      ]
     },
     "execution_count": 41,
     "metadata": {},
     "output_type": "execute_result"
    }
   ],
   "source": [
    "\n",
    "def get_domains(examples):\n",
    "    d = [set() for i in examples[0]]\n",
    "    for x in examples:\n",
    "        for i, xi in enumerate(x):\n",
    "            d[i].add(xi)\n",
    "    return [list(sorted(x)) for x in d]\n",
    "\n",
    "get_domains(examples)"
   ]
  },
  {
   "cell_type": "code",
   "execution_count": 42,
   "metadata": {},
   "outputs": [],
   "source": [
    "\n",
    "def candidate_elimination(examples):\n",
    "    domains = get_domains(examples)[:-1]\n",
    "    \n",
    "    G = set([g_0(len(domains))])\n",
    "    S = set([s_0(len(domains))])\n",
    "    i=0\n",
    "    #print(\"\\n G[{0}]:\".format(i),G)\n",
    "    #print(\"\\n S[{0}]:\".format(i),S)\n",
    "    for xcx in examples:\n",
    "        i=i+1\n",
    "        x, cx = xcx[:-1], xcx[-1]  # Splitting data into attributes and decisions\n",
    "        if cx=='Y': # x is positive example\n",
    "            G = {g for g in G if fulfills(x, g)}\n",
    "            S = generalize_S(x, G, S)\n",
    "        else: # x is negative example\n",
    "            S = {s for s in S if not fulfills(x, s)}\n",
    "            G = specialize_G(x, domains, G, S)\n",
    "        #print(\"\\n G[{0}]:\".format(i),G)\n",
    "        #print(\"\\n S[{0}]:\".format(i),S)\n",
    "    return G,S"
   ]
  },
  {
   "cell_type": "code",
   "execution_count": 43,
   "metadata": {},
   "outputs": [],
   "source": [
    "\n",
    "def generalize_S(x, G, S):\n",
    "    S_prev = list(S)\n",
    "    for s in S_prev:\n",
    "        if s not in S:\n",
    "            continue\n",
    "        if not fulfills(x, s):\n",
    "            S.remove(s)\n",
    "            Splus = min_generalizations(s, x)\n",
    "            ## keep only generalizations that have a counterpart in G\n",
    "            S.update([h for h in Splus if any([more_general(g,h) \n",
    "                                               for g in G])])\n",
    "            ## remove hypotheses less specific than any other in S\n",
    "            S.difference_update([h for h in S if \n",
    "                                 any([more_general(h, h1) \n",
    "                                      for h1 in S if h != h1])])\n",
    "    return S"
   ]
  },
  {
   "cell_type": "code",
   "execution_count": 44,
   "metadata": {},
   "outputs": [],
   "source": [
    "def specialize_G(x, domains, G, S):\n",
    "    G_prev = list(G)\n",
    "    for g in G_prev:\n",
    "        if g not in G:\n",
    "            continue\n",
    "        if fulfills(x, g):\n",
    "            G.remove(g)\n",
    "            Gminus = min_specializations(g, domains, x)\n",
    "            ## keep only specializations that have a conuterpart in S\n",
    "            G.update([h for h in Gminus if any([more_general(h, s)\n",
    "                                                for s in S])])\n",
    "            ## remove hypotheses less general than any other in G\n",
    "            G.difference_update([h for h in G if \n",
    "                                 any([more_general(g1, h) \n",
    "                                      for g1 in G if h != g1])])\n",
    "    return G"
   ]
  },
  {
   "cell_type": "code",
   "execution_count": 45,
   "metadata": {},
   "outputs": [
    {
     "name": "stdout",
     "output_type": "stream",
     "text": [
      "G[4] = {('Sunny', '?', '?', '?', '?', '?'), ('?', 'Warm', '?', '?', '?', '?')}\n",
      "S[4] = {('Sunny', 'Warm', '?', 'Strong', '?', '?')}\n"
     ]
    }
   ],
   "source": [
    "G, S = candidate_elimination(examples)\n",
    "print(\"G[4] =\", G)\n",
    "print(\"S[4] =\", S)"
   ]
  },
  {
   "cell_type": "code",
   "execution_count": 46,
   "metadata": {},
   "outputs": [],
   "source": [
    "\n",
    "class HypothesisNode(object):\n",
    "    def __init__(self, h, level=0, parents=None):\n",
    "        self.h = h\n",
    "        self.level = level\n",
    "        if parents is None:\n",
    "            parents = []\n",
    "        self.parents = set(parents)\n",
    "    def __repr__(self):\n",
    "        return \"HypothesisNode({}, {}, {})\".format(self.h, self.level, self.parents)\n",
    "\n",
    "    \n",
    "def build_hypothesis_space(G, S):\n",
    "    levels = [[HypothesisNode(x, 0) for x in G]]\n",
    "    curlevel = 1\n",
    "\n",
    "    def next_level(h, S):\n",
    "        for s in S:\n",
    "            for i in range(len(h)):\n",
    "                if h[i] == '?' and s[i] != '?':\n",
    "                    yield h[:i] + (s[i],) + h[i+1:]\n",
    "\n",
    "    nextLvl = {}\n",
    "    while True:\n",
    "        for n in levels[-1]:\n",
    "            for hyp in next_level(n.h, S):\n",
    "                if hyp in nextLvl:\n",
    "                    nextLvl[hyp].parents.add(n)\n",
    "                else:\n",
    "                    nextLvl[hyp] = HypothesisNode(hyp, curlevel, [n])\n",
    "        if not nextLvl:\n",
    "            break\n",
    "        levels.append(list(nextLvl.values()))\n",
    "        curlevel += 1\n",
    "        nextLvl = {}\n",
    "    return levels"
   ]
  },
  {
   "cell_type": "code",
   "execution_count": 49,
   "metadata": {},
   "outputs": [],
   "source": [
    "\n",
    "def draw_hypothesis_space(G, S):\n",
    "    import networkx as nx\n",
    "    \n",
    "    levels = build_hypothesis_space(G, S)\n",
    "\n",
    "    g = nx.Graph()\n",
    "\n",
    "    for nodes in levels:\n",
    "        for n in nodes:\n",
    "            for p in n.parents:\n",
    "                g.add_edge(n.h, p.h)\n",
    "\n",
    "    pos = {}\n",
    "    ymin = 0.1\n",
    "    ymax = 0.9\n",
    "\n",
    "    for nodes, y in [(levels[0], ymin), (levels[-1], ymax)]:\n",
    "        xvals = np.linspace(0, 1, len(nodes))\n",
    "        for x, n in zip(xvals, nodes):\n",
    "            pos[n.h] = [x, y]\n",
    "\n",
    "    pos = nx.layout.fruchterman_reingold_layout(g, pos=pos, fixed=pos.keys())\n",
    "\n",
    "    nx.draw_networkx_edges(g, pos=pos, alpha=0.25)\n",
    "    nx.draw_networkx_labels(g, pos=pos)\n",
    "\n",
    "\n",
    "    plt.box(True)\n",
    "    plt.xticks([])\n",
    "    plt.yticks([])\n",
    "    plt.xlim(-1, 2)\n",
    "    plt.gcf().set_size_inches((10, 10))\n",
    "    plt.show()"
   ]
  },
  {
   "cell_type": "code",
   "execution_count": 50,
   "metadata": {},
   "outputs": [
    {
     "name": "stdout",
     "output_type": "stream",
     "text": [
      "\n"
     ]
    },
    {
     "data": {
      "image/png": "[encoded data removed]",
      "text/plain": [
       "<Figure size 720x720 with 1 Axes>"
      ]
     },
     "metadata": {},
     "output_type": "display_data"
    }
   ],
   "source": [
    "print()\n",
    "draw_hypothesis_space(G, S)"
   ]
  },
  {
   "cell_type": "code",
   "execution_count": null,
   "metadata": {},
   "outputs": [],
   "source": []
  },
  {
   "cell_type": "code",
   "execution_count": null,
   "metadata": {},
   "outputs": [],
   "source": []
  }
 ],
 "metadata": {
  "kernelspec": {
   "display_name": "Python 3",
   "language": "python",
   "name": "python3"
  },
  "language_info": {
   "codemirror_mode": {
    "name": "ipython",
    "version": 3
   },
   "file_extension": ".py",
   "mimetype": "text/x-python",
   "name": "python",
   "nbconvert_exporter": "python",
   "pygments_lexer": "ipython3",
   "version": "3.7.6"
  }
 },
 "nbformat": 4,
 "nbformat_minor": 4
}
